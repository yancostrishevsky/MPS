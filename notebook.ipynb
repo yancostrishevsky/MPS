{
  "nbformat": 4,
  "nbformat_minor": 0,
  "metadata": {
    "colab": {
      "provenance": []
    },
    "kernelspec": {
      "name": "python3",
      "display_name": "Python 3"
    },
    "language_info": {
      "name": "python"
    }
  },
  "cells": [
    {
      "cell_type": "code",
      "execution_count": 1,
      "metadata": {
        "colab": {
          "base_uri": "https://localhost:8080/"
        },
        "id": "IckBTSLDTOsn",
        "outputId": "656fbb6a-6300-4448-a87c-d7ee6502f4ae"
      },
      "outputs": [
        {
          "output_type": "stream",
          "name": "stdout",
          "text": [
            "Collecting pint\n",
            "  Downloading Pint-0.24.4-py3-none-any.whl.metadata (8.5 kB)\n",
            "Requirement already satisfied: platformdirs>=2.1.0 in /usr/local/lib/python3.11/dist-packages (from pint) (4.3.6)\n",
            "Requirement already satisfied: typing-extensions>=4.0.0 in /usr/local/lib/python3.11/dist-packages (from pint) (4.12.2)\n",
            "Collecting flexcache>=0.3 (from pint)\n",
            "  Downloading flexcache-0.3-py3-none-any.whl.metadata (7.0 kB)\n",
            "Collecting flexparser>=0.4 (from pint)\n",
            "  Downloading flexparser-0.4-py3-none-any.whl.metadata (18 kB)\n",
            "Downloading Pint-0.24.4-py3-none-any.whl (302 kB)\n",
            "\u001b[?25l   \u001b[90m━━━━━━━━━━━━━━━━━━━━━━━━━━━━━━━━━━━━━━━━\u001b[0m \u001b[32m0.0/302.0 kB\u001b[0m \u001b[31m?\u001b[0m eta \u001b[36m-:--:--\u001b[0m\r\u001b[2K   \u001b[90m━━━━━━━━━━━━━━━━━━━━━━━━━━━━━━━━━━━━━━━━\u001b[0m \u001b[32m302.0/302.0 kB\u001b[0m \u001b[31m21.4 MB/s\u001b[0m eta \u001b[36m0:00:00\u001b[0m\n",
            "\u001b[?25hDownloading flexcache-0.3-py3-none-any.whl (13 kB)\n",
            "Downloading flexparser-0.4-py3-none-any.whl (27 kB)\n",
            "Installing collected packages: flexparser, flexcache, pint\n",
            "Successfully installed flexcache-0.3 flexparser-0.4 pint-0.24.4\n"
          ]
        }
      ],
      "source": [
        "!pip install pint\n",
        "import pint\n",
        "from scipy import constants\n",
        "import numpy as np\n",
        "import matplotlib.pyplot as plt\n",
        "import pandas as pd"
      ]
    },
    {
      "cell_type": "code",
      "source": [
        "# prompt: how to calculate density in a room ideal gas\n",
        "\n",
        "import pint\n",
        "\n",
        "def calculate_density(pressure, temperature, molar_mass):\n",
        "    \"\"\"Calculates the density of an ideal gas.\n",
        "\n",
        "    Args:\n",
        "        pressure: The pressure of the gas (in pascals).\n",
        "        temperature: The temperature of the gas (in kelvin).\n",
        "        molar_mass: The molar mass of the gas (in kg/mol).\n",
        "\n",
        "    Returns:\n",
        "        The density of the gas (in kg/m^3).\n",
        "    \"\"\"\n",
        "\n",
        "    ureg = pint.UnitRegistry()\n",
        "\n",
        "    pressure = pressure * ureg.pascal\n",
        "    temperature = temperature * ureg.kelvin\n",
        "    molar_mass = molar_mass * ureg.kilogram / ureg.mole\n",
        "    ideal_gas_constant = 8.314 * ureg.joule / (ureg.mole * ureg.kelvin)  # J/(mol*K)\n",
        "\n",
        "    density = (pressure * molar_mass) / (ideal_gas_constant * temperature)\n",
        "\n",
        "    return density.to_base_units()\n",
        "\n",
        "\n",
        "pressure = 100000\n",
        "temperature = 290\n",
        "molar_mass_air = 0.0289\n",
        "\n",
        "density_air = calculate_density(pressure, temperature, molar_mass_air)\n",
        "\n",
        "print(f\"The density of air is: {density_air}\")\n",
        "\n",
        "\n",
        "molar_mass_oxygen = 0.032 # kg/mol\n",
        "\n",
        "density_oxygen = calculate_density(pressure, temperature, molar_mass_oxygen)\n",
        "print(f\"The density of oxygen is: {density_oxygen}\")\n"
      ],
      "metadata": {
        "id": "RHkB8J0aTn29"
      },
      "execution_count": null,
      "outputs": []
    },
    {
      "cell_type": "code",
      "source": [
        "si = pint.UnitRegistry()\n",
        "p = 1000 * si.pascal\n",
        "R = constants.R * si.joule / (si.kelvin * si.mole)\n",
        "M = molar_mass_air = 0.0289 * si.kg / si.mol\n",
        "T = (17 + constants.zero_Celsius) * si.K\n",
        "nio = p / (R * T).to_base_units()\n"
      ],
      "metadata": {
        "id": "6-WxtIP5WHlK"
      },
      "execution_count": 3,
      "outputs": []
    },
    {
      "cell_type": "code",
      "source": [
        "def nio(T):\n",
        "  return p / (R * T).to_base_units()"
      ],
      "metadata": {
        "id": "S39ekp4sfDaJ"
      },
      "execution_count": 4,
      "outputs": []
    },
    {
      "cell_type": "code",
      "source": [
        "import pint\n",
        "from scipy import constants\n",
        "import numpy as np\n",
        "import matplotlib.pyplot as plt\n",
        "\n",
        "si = pint.UnitRegistry()\n",
        "p = 1000 * si.pascal\n",
        "R = constants.R * si.joule / (si.kelvin * si.mole)\n",
        "M = molar_mass_air = 0.0289 * si.kg / si.mol\n",
        "T_initial = (17 + constants.zero_Celsius) * si.K\n",
        "\n",
        "density_initial = p / (R * T_initial).to_base_units()\n",
        "\n",
        "\n",
        "def nio(T):\n",
        "    return p / (R * T).to_base_units()\n",
        "\n",
        "temp = np.linspace(250, 320) * si.K\n",
        "si.setup_matplotlib()\n",
        "plt.plot(temp, nio(temp))\n",
        "plt.xlabel(\"Temperature\")\n",
        "plt.ylabel(\"Density\")\n",
        "plt.show()"
      ],
      "metadata": {
        "id": "HTjy656LfXaL"
      },
      "execution_count": null,
      "outputs": []
    },
    {
      "cell_type": "code",
      "source": [],
      "metadata": {
        "id": "7WoD1TtWgwDz"
      },
      "execution_count": 5,
      "outputs": []
    }
  ]
}